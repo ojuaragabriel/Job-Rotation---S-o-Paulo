{
  "nbformat": 4,
  "nbformat_minor": 0,
  "metadata": {
    "colab": {
      "provenance": []
    },
    "kernelspec": {
      "name": "python3",
      "display_name": "Python 3"
    },
    "language_info": {
      "name": "python"
    }
  },
  "cells": [
    {
      "cell_type": "markdown",
      "source": [
        "**Questão 1-** \n",
        "int INDICE = 13, SOMA = 0, K = 0;\n",
        "\n",
        "enquanto K < INDICE faça\n",
        "\n",
        "{\n",
        "\n",
        "K = K + 1;\n",
        "\n",
        "SOMA = SOMA + K;\n",
        "\n",
        "}\n",
        "\n",
        "imprimir(SOMA);\n",
        "\n",
        "Ao final do processamento, qual será o valor da variável SOMA? Resposta : 91"
      ],
      "metadata": {
        "id": "MtdfClpbYetH"
      }
    },
    {
      "cell_type": "code",
      "source": [
        "INDICE = 13\n",
        "SOMA = 0\n",
        "K = 0\n",
        "\n",
        "while K < INDICE:\n",
        "    K = K + 1\n",
        "    SOMA = SOMA + K\n",
        "\n",
        "print(SOMA)"
      ],
      "metadata": {
        "colab": {
          "base_uri": "https://localhost:8080/"
        },
        "id": "lwI986HxYlB3",
        "outputId": "eb45fd96-64cf-4be9-ecb5-902ede554735"
      },
      "execution_count": 2,
      "outputs": [
        {
          "output_type": "stream",
          "name": "stdout",
          "text": [
            "91\n"
          ]
        }
      ]
    },
    {
      "cell_type": "markdown",
      "source": [
        "**Questão 2-**\n",
        "Dado a sequência de Fibonacci, onde se inicia por 0 e 1 e o próximo valor sempre será a soma dos 2 valores anteriores (exemplo: 0, 1, 1, 2, 3, 5, 8, 13, 21, 34...), escreva um programa na linguagem que desejar onde, informado um número, ele calcule a sequência de Fibonacci e retorne uma mensagem avisando se o número informado pertence ou não a sequência.\n",
        "\n",
        "IMPORTANTE:\n",
        "Esse número pode ser informado através de qualquer entrada de sua preferência ou pode ser previamente definido no código;"
      ],
      "metadata": {
        "id": "1DpbSyHaZEum"
      }
    },
    {
      "cell_type": "code",
      "source": [
        "num = 13\n",
        "\n",
        "# Cálculo da sequência de Fibonacci\n",
        "fibonacci = [0, 1]\n",
        "while fibonacci[-1] < num:\n",
        "    fibonacci.append(fibonacci[-1] + fibonacci[-2])\n",
        "\n",
        "# Confere se o número que foi informado faz parte ou não da sequência de Fibonacci\n",
        "if num in fibonacci:\n",
        "    print(f\"O número {num} faz parte da sequência de Fibonacci.\")\n",
        "else:\n",
        "    print(f\"O número {num} não faz parte da sequência de Fibonacci.\")\n"
      ],
      "metadata": {
        "colab": {
          "base_uri": "https://localhost:8080/"
        },
        "id": "w0MfLvpYZk0t",
        "outputId": "81bd1773-c78b-4c28-88e8-4a2f67b5f1d0"
      },
      "execution_count": 5,
      "outputs": [
        {
          "output_type": "stream",
          "name": "stdout",
          "text": [
            "O número 13 faz parte da sequência de Fibonacci.\n"
          ]
        }
      ]
    },
    {
      "cell_type": "markdown",
      "source": [
        "**Questão 3-**\n",
        "Dado um vetor que guarda o valor de faturamento diário de uma distribuidora, faça um programa, na linguagem que desejar, que calcule e retorne:\n",
        "• O menor valor de faturamento ocorrido em um dia do mês;\n",
        "• O maior valor de faturamento ocorrido em um dia do mês;\n",
        "• Número de dias no mês em que o valor de faturamento diário foi superior à média mensal.\n",
        "\n",
        "IMPORTANTE:\n",
        "a) Usar o json ou xml disponível como fonte dos dados do faturamento mensal;\n",
        "b) Podem existir dias sem faturamento, como nos finais de semana e feriados. Estes dias devem ser ignorados no cálculo da média"
      ],
      "metadata": {
        "id": "D0rar6VCZeu3"
      }
    },
    {
      "cell_type": "code",
      "execution_count": 3,
      "metadata": {
        "colab": {
          "base_uri": "https://localhost:8080/"
        },
        "id": "vTo7ezSBYaNy",
        "outputId": "d723094a-3bf2-4681-dbfb-11f0dba7ee0b"
      },
      "outputs": [
        {
          "output_type": "stream",
          "name": "stdout",
          "text": [
            "Digite o número de dias do mês: 30\n",
            "Digite o faturamento do dia 1: 20\n",
            "Digite o faturamento do dia 2: 4\n",
            "Digite o faturamento do dia 3: 58\n",
            "Digite o faturamento do dia 4: 45\n",
            "Digite o faturamento do dia 5: 45\n",
            "Digite o faturamento do dia 6: 45\n",
            "Digite o faturamento do dia 7: 45\n",
            "Digite o faturamento do dia 8: 54\n",
            "Digite o faturamento do dia 9: 45\n",
            "Digite o faturamento do dia 10: 54\n",
            "Digite o faturamento do dia 11: 45\n",
            "Digite o faturamento do dia 12: 45\n",
            "Digite o faturamento do dia 13: 54\n",
            "Digite o faturamento do dia 14: 54\n",
            "Digite o faturamento do dia 15: 54\n",
            "Digite o faturamento do dia 16: 54\n",
            "Digite o faturamento do dia 17: 54\n",
            "Digite o faturamento do dia 18: 54\n",
            "Digite o faturamento do dia 19: 54\n",
            "Digite o faturamento do dia 20: 78\n",
            "Digite o faturamento do dia 21: 78\n",
            "Digite o faturamento do dia 22: 78\n",
            "Digite o faturamento do dia 23: 78\n",
            "Digite o faturamento do dia 24: 45\n",
            "Digite o faturamento do dia 25: 45\n",
            "Digite o faturamento do dia 26: 45\n",
            "Digite o faturamento do dia 27: 654\n",
            "Digite o faturamento do dia 28: 888\n",
            "Digite o faturamento do dia 29: 45\n",
            "Digite o faturamento do dia 30: 54\n",
            "Menor valor de faturamento: 4.00\n",
            "Maior valor de faturamento: 888.00\n",
            "Número de dias com faturamento acima da média: 2\n"
          ]
        }
      ],
      "source": [
        "# leitura dos valores de faturamento diário\n",
        "faturamento = []\n",
        "soma = 0\n",
        "dias_do_mes = int(input(\"Digite o número de dias do mês: \"))45: \")))\n",
        "    soma += faturamento[i]\n",
        "\n",
        "# cálculo da média mensal\n",
        "media = soma / dias_do_mes\n",
        "\n",
        "# inicialização do menor e maior valor de faturamento\n",
        "menor = faturamento[0]\n",
        "maior = faturamento[0]\n",
        "\n",
        "# cálculo do menor e maior valor de faturamento\n",
        "for i in range(1, dias_do_mes):\n",
        "    if faturamento[i] < menor:\n",
        "        menor = faturamento[i]\n",
        "    if faturamento[i] > maior:\n",
        "        maior = faturamento[i]\n",
        "\n",
        "# cálculo do número de dias em que o valor de faturamento diário foi superior à média mensal\n",
        "dias_acima_da_media = 0\n",
        "for i in range(dias_do_mes):\n",
        "    if faturamento[i] > media:\n",
        "        dias_acima_da_media += 1\n",
        "\n",
        "# exibição dos resultados\n",
        "print(f\"Menor valor de faturamento: {menor:.2f}\")\n",
        "print(f\"Maior valor de faturamento: {maior:.2f}\")\n",
        "print(f\"Número de dias com faturamento acima da média: {dias_acima_da_media}\")\n",
        "\n"
      ]
    },
    {
      "cell_type": "markdown",
      "source": [
        "**Questão 4-**\n",
        "Dado o valor de faturamento mensal de uma distribuidora, detalhado por estado:\n",
        "\n",
        "SP – R$67.836,43\n",
        "RJ – R$36.678,66\n",
        "MG – R$29.229,88\n",
        "ES – R$27.165,48\n",
        "Outros – R$19.849,53\n",
        "\n",
        "Escreva um programa na linguagem que desejar onde calcule o percentual de representação que cada estado teve dentro do valor total mensal da distribuidora."
      ],
      "metadata": {
        "id": "0Ly9zSRDZVP9"
      }
    },
    {
      "cell_type": "code",
      "source": [
        "# Faturamento mensal por estado\n",
        "faturamento = {\n",
        "    'SP': 67836.43,\n",
        "    'RJ': 36678.66,\n",
        "    'MG': 29229.88,\n",
        "    'ES': 27165.48,\n",
        "    'Outros': 19849.53\n",
        "}\n",
        "\n",
        "# Calcula o faturamento total\n",
        "total_faturamento = sum(faturamento.values())\n",
        "\n",
        "# Calcula e imprime o percentual de representação de cada estado\n",
        "for estado, valor in faturamento.items():\n",
        "    percentual = (valor / total_faturamento) * 100\n",
        "    print(f'{estado}: {percentual:.2f}%')\n"
      ],
      "metadata": {
        "colab": {
          "base_uri": "https://localhost:8080/"
        },
        "id": "Bz4zI0NJZ8dj",
        "outputId": "827f601d-818a-4c82-b419-7f5a6fcb8b8a"
      },
      "execution_count": 4,
      "outputs": [
        {
          "output_type": "stream",
          "name": "stdout",
          "text": [
            "SP: 37.53%\n",
            "RJ: 20.29%\n",
            "MG: 16.17%\n",
            "ES: 15.03%\n",
            "Outros: 10.98%\n"
          ]
        }
      ]
    },
    {
      "cell_type": "markdown",
      "source": [
        "**Questão 5-**\n",
        "Escreva um programa que inverta os caracteres de um string.\n",
        "\n",
        "IMPORTANTE:\n",
        "a) Essa string pode ser informada através de qualquer entrada de sua preferência ou pode ser previamente definida no código;\n",
        "b) Evite usar funções prontas, como, por exemplo, reverse;"
      ],
      "metadata": {
        "id": "_em3jbvsaZY8"
      }
    },
    {
      "cell_type": "code",
      "source": [
        "string = input(\"Digite uma string: \")\n",
        "string_invertida = \"\"\n",
        "\n",
        "for i in range(len(string)-1, -1, -1):\n",
        "    string_invertida += string[i]\n",
        "\n",
        "print(\"A string invertida é:\", string_invertida)\n"
      ],
      "metadata": {
        "colab": {
          "base_uri": "https://localhost:8080/"
        },
        "id": "C1vRcwl4as_S",
        "outputId": "22b1f4d5-35d6-4efe-bd92-ab9f1febf316"
      },
      "execution_count": 6,
      "outputs": [
        {
          "output_type": "stream",
          "name": "stdout",
          "text": [
            "Digite uma string: 4321\n",
            "A string invertida é: 1234\n"
          ]
        }
      ]
    }
  ]
}